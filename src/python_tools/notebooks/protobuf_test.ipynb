{
 "cells": [
  {
   "cell_type": "markdown",
   "metadata": {},
   "source": [
    "# Python protobuf test"
   ]
  },
  {
   "cell_type": "code",
   "execution_count": 9,
   "metadata": {},
   "outputs": [],
   "source": [
    "from software.proto.repeated_any_msg_pb2 import RepeatedAnyMsg\n",
    "from software.proto.sensor_msg_pb2 import SensorProto\n",
    "from google.protobuf.any_pb2 import Any\n",
    "from google.protobuf.internal.decoder import _DecodeVarint32\n",
    "import numpy as np\n",
    "import matplotlib.pyplot as plt"
   ]
  },
  {
   "cell_type": "code",
   "execution_count": 10,
   "metadata": {
    "scrolled": true
   },
   "outputs": [],
   "source": [
    "buf = open('/home/jordan/protologgertest2/SensorProto/0', 'rb').read()\n",
    "msg_len, new_pos = _DecodeVarint32(buf, 0)\n",
    "msg_data = buf[new_pos:new_pos + msg_len]\n",
    "replaymsg = RepeatedAnyMsg()\n",
    "replaymsg.ParseFromString(msg_data)\n",
    "\n",
    "sensormsgs = []\n",
    "for anymsg in replaymsg.messages:\n",
    "    sensormsg = SensorProto()\n",
    "    anymsg.Unpack(sensormsg)\n",
    "    sensormsgs.append(sensormsg)"
   ]
  },
  {
   "cell_type": "code",
   "execution_count": 11,
   "metadata": {},
   "outputs": [],
   "source": [
    "ssl_detections = []\n",
    "for sensormsg in sensormsgs:\n",
    "    if sensormsg.HasField(\"ssl_vision_msg\") and sensormsg.ssl_vision_msg.HasField(\"detection\"):\n",
    "        ssl_detections.append(sensormsg.ssl_vision_msg.detection)"
   ]
  },
  {
   "cell_type": "code",
   "execution_count": 18,
   "metadata": {},
   "outputs": [],
   "source": [
    "ball_detections = []\n",
    "\n",
    "for detection in ssl_detections: \n",
    "    ball_detections.extend(detection.balls)\n",
    "    \n",
    "\n",
    "ball_xs = [ball.x for ball in ball_detections]\n",
    "ball_ys = [ball.y for ball in ball_detections]"
   ]
  },
  {
   "cell_type": "code",
   "execution_count": 23,
   "metadata": {},
   "outputs": [
    {
     "data": {
      "text/plain": [
       "Text(0.5, 1.0, 'Ball positions')"
      ]
     },
     "execution_count": 23,
     "metadata": {},
     "output_type": "execute_result"
    },
    {
     "data": {
      "image/png": "[encoded data removed]",
      "text/plain": [
       "<Figure size 720x360 with 1 Axes>"
      ]
     },
     "metadata": {
      "needs_background": "light"
     },
     "output_type": "display_data"
    }
   ],
   "source": [
    "plt.figure(figsize=(10, 5))\n",
    "plt.scatter(ball_xs, ball_ys)\n",
    "plt.title(\"Ball positions\")"
   ]
  },
  {
   "cell_type": "code",
   "execution_count": null,
   "metadata": {},
   "outputs": [],
   "source": []
  }
 ],
 "metadata": {
  "kernelspec": {
   "display_name": "Python 3",
   "language": "python",
   "name": "python3"
  },
  "language_info": {
   "codemirror_mode": {
    "name": "ipython",
    "version": 3
   },
   "file_extension": ".py",
   "mimetype": "text/x-python",
   "name": "python",
   "nbconvert_exporter": "python",
   "pygments_lexer": "ipython3",
   "version": "3.7.9"
  }
 },
 "nbformat": 4,
 "nbformat_minor": 4
}
